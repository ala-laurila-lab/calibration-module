{
 "cells": [
  {
   "cell_type": "code",
   "execution_count": 3,
   "metadata": {
    "collapsed": false
   },
   "outputs": [
    {
     "name": "stdout",
     "output_type": "stream",
     "text": [
      "Locating project \"calibration-module\" within \"C:\\Users\\narayas2\\Documents\\MATLAB\\projects\".\n",
      "  Found at \"C:\\Users\\narayas2\\Documents\\MATLAB\\projects\\calibration-module\".\n",
      "Updating \"ToolboxRegistry\".\n",
      "Already up-to-date.\n",
      "Updating \"calibration-module\".\n",
      "Host key verification failed. \n",
      "fatal: Could not read from remote repository.\n",
      "\n",
      "Please make sure you have the correct access rights\n",
      "and the repository exists.\n",
      "Updating \"matlab-persistence\".\n",
      "Already up-to-date.\n",
      "Found \"jsonlab_v1.2\" and skipping update.\n",
      "Updating \"logging4matlab\".\n",
      "Already up-to-date.\n",
      "Updating \"MatlabQuery\".\n",
      "Already up-to-date.\n",
      "Updating \"mdepin\".\n",
      "Already up-to-date.\n",
      "Adding \"ToolboxToolbox\" to path at \"C:\\Users\\narayas2\\Documents\\MATLAB\\ToolboxToolbox\".\n",
      "Adding \"calibration-module\" to path at \"C:\\Users\\narayas2\\Documents\\MATLAB\\projects\\calibration-module\".\n",
      "Adding \"matlab-persistence\" to path at \"C:\\Users\\narayas2\\Documents\\MATLAB\\toolboxes\\matlab-persistence\".\n",
      "Adding \"jsonlab_v1.2\" to path at \"C:\\Users\\narayas2\\Documents\\MATLAB\\toolboxes\\jsonlab_v1.2\".\n",
      "Adding \"logging4matlab\" to path at \"C:\\Users\\narayas2\\Documents\\MATLAB\\toolboxes\\logging4matlab\".\n",
      "Adding \"MatlabQuery\" to path at \"C:\\Users\\narayas2\\Documents\\MATLAB\\toolboxes\\MatlabQuery\".\n",
      "Adding \"mdepin\" to path at \"C:\\Users\\narayas2\\Documents\\MATLAB\\toolboxes\\mdepin\".\n",
      "Checking for \"calibration-module\" local hook.\n",
      "Checking for \"matlab-persistence\" local hook.\n",
      "Checking for \"jsonlab_v1.2\" local hook.\n",
      "Checking for \"logging4matlab\" local hook.\n",
      "Checking for \"MatlabQuery\" local hook.\n",
      "Checking for \"mdepin\" local hook.\n",
      "Error: \"calibration-module\" had status 1, message \"Host key verification failed.\n",
      "fatal: Could not read from remote repository.\n",
      "\n",
      "Please make sure you have the correct access rights\n",
      "and the repository exists.\"\n",
      "Something went wrong with resolved toolboxes, please see above.\n",
      "\n"
     ]
    },
    {
     "data": {
      "image/png": "[encoded data removed]",
      "text/plain": [
       "<IPython.core.display.Image object>"
      ]
     },
     "metadata": {},
     "output_type": "display_data"
    }
   ],
   "source": [
    "tbUseProject('calibration-module');\n",
    "\n",
    "close all;\n",
    "clc;\n",
    "clear;\n",
    "import ala_laurila_lab.*;\n",
    "\n",
    "LAMDA_MAX = 497;                        % Toda et al. 1999\n",
    "ROD_PHOTORECEPTOR_AREA = 0.5 * 1e-12;   % um^2, collective area of rod (Murphy & Rieke (2011))\n",
    "spectrum = ala_laurila_lab.util.loadSpectralFile('src/test/resources/spectrum_aalto_rig', 'projector');\n",
    "\n",
    "\n",
    "figure;\n",
    "plot(spectrum.wavelength, spectrum.getNormalizedPowerSpectrum())"
   ]
  },
  {
   "cell_type": "code",
   "execution_count": 7,
   "metadata": {
    "collapsed": false
   },
   "outputs": [
    {
     "name": "stdout",
     "output_type": "stream",
     "text": [
      "\n",
      "od1 =\n",
      "\n",
      "    0.9236\n",
      "\n",
      "\n",
      "od3 =\n",
      "\n",
      "    3.7023\n",
      "\n",
      "\n",
      "od5 =\n",
      "\n",
      "    5.3010\n",
      "\n",
      "\n"
     ]
    }
   ],
   "source": [
    "ledCurrent = 100;\n",
    "radius = 1000 * 10^-6/2; \n",
    "area = pi*(radius)^2; \n",
    "\n",
    "\n",
    "ndf1 = ala_laurila_lab.entity.NDFMeasurement('D1A');\n",
    "ndf1.ledInput = ledCurrent;\n",
    "ndf1.ledInputExponent = 1;\n",
    "ndf1.powers = 0.260;\n",
    "ndf1.powerExponent = 1e-3;\n",
    "ndf1.powerWithNdf = 31;\n",
    "ndf1.powerWithNdfExponent =  1e-6;\n",
    "ndf1.referenceInput = ledCurrent;\n",
    "\n",
    "od1 = ndf1.opticalDensity\n",
    "trans1 = 10^(-ndf1.opticalDensity);\n",
    "\n",
    "ndf3 = ala_laurila_lab.entity.NDFMeasurement('D3A');\n",
    "ndf3.ledInput = ledCurrent;\n",
    "ndf3.ledInputExponent = 1;\n",
    "ndf3.powers = 0.260;\n",
    "ndf3.powerExponent =  1e-3;\n",
    "ndf3.powerWithNdf = 51.6 ;\n",
    "ndf3.powerWithNdfExponent =  1e-9;\n",
    "ndf3.referenceInput = ledCurrent;\n",
    "\n",
    "od3 = ndf3.opticalDensity\n",
    "trans3 = 10^(-ndf3.opticalDensity);\n",
    "\n",
    "ndf5 = ala_laurila_lab.entity.NDFMeasurement('D5A');\n",
    "ndf5.ledInput = ledCurrent;\n",
    "ndf5.ledInputExponent = 1;\n",
    "ndf5.powers = 0.260;\n",
    "ndf5.powerExponent = 1e-3;\n",
    "ndf5.powerWithNdf = 0.0013;\n",
    "ndf5.powerWithNdfExponent = 1e-6;\n",
    "ndf5.referenceInput = ledCurrent;\n",
    "\n",
    "od5 = ndf5.opticalDensity\n",
    "trans5 = 10^(-ndf5.opticalDensity);\n"
   ]
  },
  {
   "cell_type": "code",
   "execution_count": 11,
   "metadata": {
    "collapsed": false
   },
   "outputs": [
    {
     "name": "stdout",
     "output_type": "stream",
     "text": [
      "LED current 100 and spot size of 1000 micron\n",
      "\n",
      "rstar =\n",
      "\n",
      "   1.5122e+08\n",
      "\n",
      "\n",
      "rstar_ndf_1 =\n",
      "\n",
      "   1.8030e+07\n",
      "\n",
      "\n",
      "rstar_ndf_3 =\n",
      "\n",
      "   3.0010e+04\n",
      "\n",
      "\n",
      "rstar_ndf_5 =\n",
      "\n",
      "  756.0766\n",
      "\n",
      "\n"
     ]
    }
   ],
   "source": [
    "powerPerArea = @(power) power * 10^-3 / area;\n",
    "powerSpectrumPerArea = @(powerPerUnitArea) spectrum.getNormalizedPowerSpectrum() * powerPerUnitArea;\n",
    "rstarPerSecond = @(powerPerUnitArea) util.photonToIsomerisation(powerSpectrumPerArea(powerPerUnitArea), spectrum.wavelength, LAMDA_MAX, ROD_PHOTORECEPTOR_AREA);\n",
    "\n",
    "disp('LED current 100 and spot size of 1000 micron')\n",
    "\n",
    "rstar = rstarPerSecond(powerPerArea(0.16935))\n",
    "rstar_ndf_1 = rstar * trans1\n",
    "rstar_ndf_3 = rstar * trans3\n",
    "rstar_ndf_5 = rstar * trans5\n",
    "\n"
   ]
  },
  {
   "cell_type": "code",
   "execution_count": 12,
   "metadata": {
    "collapsed": false
   },
   "outputs": [
    {
     "name": "stdout",
     "output_type": "stream",
     "text": [
      "| Ledurrents \t | rstarPerSecond | ndf 0.92 | ndf 3.7 | ndf 5.3 |\n",
      "| --------- | --------- | --------- | --------- | --------- |\n",
      "| 0 \t | -289823.86 | -34555.92 \t | -57.52 \t | -1.45 \t |\n",
      "| 1 \t | -287359.45 | -34262.09 \t | -57.03 \t | -1.44 \t |\n",
      "| 2 \t | -291962.78 | -34810.95 \t | -57.94 \t | -1.46 \t |\n",
      "| 3 \t | -286103.99 | -34112.4 \t | -56.78 \t | -1.43 \t |\n",
      "| 4 \t | -288010.42 | -34339.7 \t | -57.16 \t | -1.44 \t |\n",
      "| 5 \t | -287591.94 | -34289.81 \t | -57.08 \t | -1.44 \t |\n",
      "| 6 \t | 137030.47 | 16338.25 \t | 27.2 \t | 0.69 \t |\n",
      "| 7 \t | 1636321.41 | 195099.86 \t | 324.75 \t | 8.18 \t |\n",
      "| 8 \t | 3420181.9 | 407790.92 \t | 678.77 \t | 17.1 \t |\n",
      "| 9 \t | 5623178 | 670455.84 \t | 1115.98 \t | 28.12 \t |\n",
      "| 10 \t | 7408572.94 | 883329.85 \t | 1470.32 \t | 37.04 \t |\n",
      "| 11 \t | 9169695.77 | 1093309.88 \t | 1819.83 \t | 45.85 \t |\n",
      "| 12 \t | 10971411.61 | 1308129.85 \t | 2177.4 \t | 54.86 \t |\n",
      "| 13 \t | 12818835.27 | 1528399.59 \t | 2544.05 \t | 64.09 \t |\n",
      "| 14 \t | 14495377.7 | 1728295.03 \t | 2876.77 \t | 72.48 \t |\n",
      "| 15 \t | 16147694.53 | 1925302.04 \t | 3204.7 \t | 80.74 \t |\n",
      "| 20 \t | 24654557.14 | 2939581.81 \t | 4892.98 \t | 123.27 \t |\n",
      "| 30 \t | 40715578.84 | 4854549.78 \t | 8080.48 \t | 203.58 \t |\n",
      "| 40 \t | 55189474.32 | 6580283.48 \t | 10952.99 \t | 275.95 \t |\n",
      "| 50 \t | 68913026.87 | 8216553.2 \t | 13676.59 \t | 344.57 \t |\n",
      "| 60 \t | 81440968.81 | 9710269.36 \t | 16162.9 \t | 407.2 \t |\n",
      "| 70 \t | 93826904.94 | 11187054.05 \t | 18621.03 \t | 469.13 \t |\n",
      "| 80 \t | 105597622.19 | 12590485.72 \t | 20957.07 \t | 527.99 \t |\n",
      "| 90 \t | 117166164.88 | 13969811.97 \t | 23252.98 \t | 585.83 \t |\n",
      "| 100 \t | 128127579.41 | 15276749.85 \t | 25428.4 \t | 640.64 \t |\n",
      "| 120 \t | 149042418.35 | 17770442.19 \t | 29579.19 \t | 745.21 \t |\n",
      "| 140 \t | 168501302.74 | 20090539.94 \t | 33441.03 \t | 842.51 \t |\n",
      "| 160 \t | 186718496.78 | 22262590 \t | 37056.44 \t | 933.59 \t |\n",
      "| 180 \t | 203286210.38 | 24237971.24 \t | 40344.49 \t | 1016.43 \t |\n",
      "| 200 \t | 218499289.23 | 26051838.33 \t | 43363.71 \t | 1092.5 \t |\n",
      "| 220 \t | 232104503.59 | 27673998.5 \t | 46063.82 \t | 1160.52 \t |\n",
      "| 240 \t | 244228468.43 | 29119548.16 \t | 48469.96 \t | 1221.14 \t |\n",
      "| 255 \t | 252012096.58 | 30047596.13 \t | 50014.71 \t | 1260.06 \t |\n",
      "\n"
     ]
    }
   ],
   "source": [
    "linearity = loadjson('src/test/resources/projector-linearity.json');\n",
    "\n",
    "fprintf('| Ledurrents \\t | rstarPerSecond | ndf 0.92 | ndf 3.7 | ndf 5.3 |\\n');\n",
    "fprintf('| --------- | --------- | --------- | --------- | --------- |\\n')\n",
    "for i = 1 : numel(linearity.ledCurrents)\n",
    "     rstar = rstarPerSecond(powerPerArea(linearity.powerInMilliWattFor(i)));  % in milli watts for 1000 micron and no ndf\n",
    "     rstar = round(rstar, 2);\n",
    "     fprintf('| %s \\t | %s | %s \\t | %s \\t | %s \\t |\\n', num2str(linearity.ledCurrents(i)), num2str(round(rstar, 2)) , num2str(round(rstar * trans1, 2)), num2str(round(rstar * trans3, 2)), num2str(round(rstar * trans5, 2)));\n",
    "end"
   ]
  },
  {
   "cell_type": "code",
   "execution_count": null,
   "metadata": {
    "collapsed": true
   },
   "outputs": [],
   "source": []
  }
 ],
 "metadata": {
  "kernelspec": {
   "display_name": "Matlab",
   "language": "matlab",
   "name": "matlab"
  },
  "language_info": {
   "codemirror_mode": "octave",
   "file_extension": ".m",
   "help_links": [
    {
     "text": "MetaKernel Magics",
     "url": "https://github.com/calysto/metakernel/blob/master/metakernel/magics/README.md"
    }
   ],
   "mimetype": "text/x-matlab",
   "name": "matlab",
   "version": "0.14.2"
  }
 },
 "nbformat": 4,
 "nbformat_minor": 2
}
