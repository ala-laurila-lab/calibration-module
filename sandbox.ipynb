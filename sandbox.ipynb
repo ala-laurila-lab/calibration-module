{
 "cells": [
  {
   "cell_type": "code",
   "execution_count": 4,
   "metadata": {
    "collapsed": false,
    "deletable": true,
    "editable": true
   },
   "outputs": [
    {
     "name": "stdout",
     "output_type": "stream",
     "text": [
      "Locating project \"calibration-module\" within \"C:\\Users\\narayas2\\Documents\\MATLAB\\projects\".\n",
      "  Found at \"C:\\Users\\narayas2\\Documents\\MATLAB\\projects\\calibration-module\".\n",
      "Updating \"ToolboxRegistry\".\n",
      "Already up-to-date.\n",
      "Updating \"calibration-module\".\n",
      "Host key verification failed. \n",
      "fatal: Could not read from remote repository.\n",
      "\n",
      "Please make sure you have the correct access rights\n",
      "and the repository exists.\n",
      "Updating \"matlab-persistence\".\n",
      "Already up-to-date.\n",
      "Found \"jsonlab_v1.2\" and skipping update.\n",
      "Updating \"logging4matlab\".\n",
      "Already up-to-date.\n",
      "Updating \"MatlabQuery\".\n",
      "Already up-to-date.\n",
      "Updating \"mdepin\".\n",
      "Already up-to-date.\n",
      "Adding \"ToolboxToolbox\" to path at \"C:\\Users\\narayas2\\Documents\\MATLAB\\ToolboxToolbox\".\n",
      "Adding \"calibration-module\" to path at \"C:\\Users\\narayas2\\Documents\\MATLAB\\projects\\calibration-module\".\n",
      "Adding \"matlab-persistence\" to path at \"C:\\Users\\narayas2\\Documents\\MATLAB\\toolboxes\\matlab-persistence\".\n",
      "Adding \"jsonlab_v1.2\" to path at \"C:\\Users\\narayas2\\Documents\\MATLAB\\toolboxes\\jsonlab_v1.2\".\n",
      "Adding \"logging4matlab\" to path at \"C:\\Users\\narayas2\\Documents\\MATLAB\\toolboxes\\logging4matlab\".\n",
      "Adding \"MatlabQuery\" to path at \"C:\\Users\\narayas2\\Documents\\MATLAB\\toolboxes\\MatlabQuery\".\n",
      "Adding \"mdepin\" to path at \"C:\\Users\\narayas2\\Documents\\MATLAB\\toolboxes\\mdepin\".\n",
      "Checking for \"calibration-module\" local hook.\n",
      "Checking for \"matlab-persistence\" local hook.\n",
      "Checking for \"jsonlab_v1.2\" local hook.\n",
      "Checking for \"logging4matlab\" local hook.\n",
      "Checking for \"MatlabQuery\" local hook.\n",
      "Checking for \"mdepin\" local hook.\n",
      "Error: \"calibration-module\" had status 1, message \"Host key verification failed.\n",
      "fatal: Could not read from remote repository.\n",
      "\n",
      "Please make sure you have the correct access rights\n",
      "and the repository exists.\"\n",
      "Something went wrong with resolved toolboxes, please see above.\n",
      "\n"
     ]
    }
   ],
   "source": [
    "\n",
    "%% Ignore below lines of code, Go to next section please\n",
    "\n",
    "tbUseProject('calibration-module');\n",
    "javaaddpath(which('mpa-jutil-0.0.1-SNAPSHOT.jar'));\n",
    "javaaddpath(which('java-uuid-generator-3.1.4.jar'));\n",
    "\n",
    "import ala_laurila_lab.*;\n",
    "path = which('test-symphony-persistence.xml');\n",
    "config = struct();\n",
    "config.service.class = 'ala_laurila_lab.service.CalibrationService';\n",
    "config.service.dataPersistence = 'test-rig-data';\n",
    "config.service.logPersistence = 'test-rig-log';\n",
    "config.service.persistenceXml = which('test-symphony-persistence.xml');\n",
    "service = mdepin.createApplication(config, 'service');\n",
    "\n"
   ]
  },
  {
   "cell_type": "code",
   "execution_count": 5,
   "metadata": {
    "collapsed": false,
    "deletable": true,
    "editable": true
   },
   "outputs": [
    {
     "name": "stdout",
     "output_type": "stream",
     "text": [
      "ndf A1A + A4B\n",
      "rstar       voltage\n",
      "------------------------\n",
      "1.5104      56.6533\n",
      "2.4766      90.9948\n",
      "3.4319      125.9567\n",
      "4.3886      161.9321\n",
      "5.3437      198.7421\n",
      "10.1191      395.3637\n",
      "19.6384      848.9841\n",
      "29.0782      1372.9216\n",
      "\n"
     ]
    }
   ],
   "source": [
    "%% Trying to calculate intensity to rstar\n",
    "% From calibration api mode\n",
    "\n",
    "LAMDA_MAX = 497;                        % Toda et al. 1999\n",
    "ROD_PHOTORECEPTOR_AREA = 0.5 * 1e-12;   % um^2, collective area of rod (Murphy & Rieke (2011))\n",
    "\n",
    "% get all the required instances, led names are weird but we can fix that in real calibration\n",
    "\n",
    "intensity = service.getIntensityMeasurement('Blue');\n",
    "spectrum = service.getSpectralMeasurement('blue', 'led');\n",
    "linearity = service.getLinearityByStimulsDuration(5000, 'BlueLed');\n",
    "\n",
    "% calculate rstar per second\n",
    "\n",
    "powerPerUnitArea = intensity(end).getPowerPerUnitArea();\n",
    "powerSpectrumPerArea = spectrum.getNormalizedPowerSpectrum() * powerPerUnitArea;\n",
    "rstarPerSecond = util.photonToIsomerisation(powerSpectrumPerArea, spectrum.wavelength, LAMDA_MAX, ROD_PHOTORECEPTOR_AREA);\n",
    "\n",
    "% get the transmitance value from ndf\n",
    "\n",
    "ndf2 = service.getNDFMeasurement('A4B');\n",
    "ndf3 = service.getNDFMeasurement('A1A');\n",
    "trans = 10^(-(ndf2(end).opticalDensity + ndf3(end).opticalDensity));\n",
    "\n",
    "% sample r-star table for ndf 5 \n",
    "\n",
    "disp('ndf A1A + A4B');\n",
    "disp('rstar       voltage')\n",
    "disp('------------------------')\n",
    "\n",
    "for voltage = [56.6532853243682, 90.9947797625159, 125.95670244329, 161.932053656434, 198.742115631752, 395.363673745042, 848.984144716212, 1372.9216466916]\n",
    "    flux = linearity.getFluxByInput(voltage * 10^-3, 'factorized', true);\n",
    "    rstar = flux * rstarPerSecond * trans;\n",
    "    disp([num2str(rstar) '      ' num2str(voltage)]);\n",
    "end\n",
    "\n",
    "clear service;"
   ]
  },
  {
   "cell_type": "code",
   "execution_count": 6,
   "metadata": {
    "collapsed": false,
    "deletable": true,
    "editable": true
   },
   "outputs": [
    {
     "name": "stdout",
     "output_type": "stream",
     "text": [
      "Warning: MATLAB has disabled some advanced graphics rendering features by switching to software OpenGL. For more information, click <a href=\"matlab:opengl('problems')\">here</a>.\n",
      "\n",
      "rstarPerSecond =\n",
      "\n",
      "   1.0519e+05\n",
      "\n",
      "\n"
     ]
    },
    {
     "data": {
      "image/png": "[encoded data removed]",
      "text/plain": [
       "<IPython.core.display.Image object>"
      ]
     },
     "metadata": {},
     "output_type": "display_data"
    },
    {
     "data": {
      "image/png": "[encoded data removed]",
      "text/plain": [
       "<IPython.core.display.Image object>"
      ]
     },
     "metadata": {},
     "output_type": "display_data"
    }
   ],
   "source": [
    "clear service;\n",
    "\n",
    "%% simple calculation for projector\n",
    "\n",
    "close all;\n",
    "\n",
    "import ala_laurila_lab.*;\n",
    "\n",
    "LAMDA_MAX = 497;                        % Toda et al. 1999\n",
    "ROD_PHOTORECEPTOR_AREA = 0.5 * 1e-12;   % um^2, collective area of rod (Murphy & Rieke (2011))\n",
    "\n",
    "spectrum = ala_laurila_lab.util.loadSpectralFile('src\\test\\resources\\spectrum_aalto_rig', 'projector');\n",
    "semilogy(spectrum.wavelength, spectrum.getNormalizedPowerSpectrum());\n",
    "figure;\n",
    "plot(spectrum.wavelength, spectrum.getNormalizedPowerSpectrum())\n",
    "powerPerUnitArea = 0.15; % in watts for 1000 micron and led current of 100 and no ndf\n",
    "powerSpectrumPerArea = spectrum.getNormalizedPowerSpectrum() * powerPerUnitArea;\n",
    "\n",
    "rstarPerSecond = util.photonToIsomerisation(powerSpectrumPerArea, spectrum.wavelength, LAMDA_MAX, ROD_PHOTORECEPTOR_AREA)"
   ]
  },
  {
   "cell_type": "code",
   "execution_count": null,
   "metadata": {
    "collapsed": true,
    "deletable": true,
    "editable": true
   },
   "outputs": [],
   "source": []
  }
 ],
 "metadata": {
  "kernelspec": {
   "display_name": "Matlab",
   "language": "matlab",
   "name": "matlab"
  },
  "language_info": {
   "codemirror_mode": "octave",
   "file_extension": ".m",
   "help_links": [
    {
     "text": "MetaKernel Magics",
     "url": "https://github.com/calysto/metakernel/blob/master/metakernel/magics/README.md"
    }
   ],
   "mimetype": "text/x-matlab",
   "name": "matlab",
   "version": "0.14.2"
  }
 },
 "nbformat": 4,
 "nbformat_minor": 2
}
