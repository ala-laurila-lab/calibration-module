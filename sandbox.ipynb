{
 "cells": [
  {
   "cell_type": "code",
   "execution_count": 2,
   "metadata": {
    "collapsed": false,
    "deletable": true,
    "editable": true
   },
   "outputs": [
    {
     "name": "stdout",
     "output_type": "stream",
     "text": [
      "Locating project \"calibration-module\" within \"C:\\Users\\narayas2\\Documents\\MATLAB\\projects\".\n",
      "  Found at \"C:\\Users\\narayas2\\Documents\\MATLAB\\projects\\calibration-module\".\n",
      "Updating \"ToolboxRegistry\".\n",
      "Already up-to-date.\n",
      "Updating \"calibration-module\".\n",
      "Host key verification failed. \n",
      "fatal: Could not read from remote repository.\n",
      "\n",
      "Please make sure you have the correct access rights\n",
      "and the repository exists.\n",
      "Updating \"matlab-persistence\".\n",
      "Already up-to-date.\n",
      "Found \"jsonlab_v1.2\" and skipping update.\n",
      "Updating \"logging4matlab\".\n",
      "Already up-to-date.\n",
      "Updating \"MatlabQuery\".\n",
      "Already up-to-date.\n",
      "Updating \"mdepin\".\n",
      "Already up-to-date.\n",
      "Adding \"ToolboxToolbox\" to path at \"C:\\Users\\narayas2\\Documents\\MATLAB\\ToolboxToolbox\".\n",
      "Adding \"calibration-module\" to path at \"C:\\Users\\narayas2\\Documents\\MATLAB\\projects\\calibration-module\".\n",
      "Adding \"matlab-persistence\" to path at \"C:\\Users\\narayas2\\Documents\\MATLAB\\toolboxes\\matlab-persistence\".\n",
      "Adding \"jsonlab_v1.2\" to path at \"C:\\Users\\narayas2\\Documents\\MATLAB\\toolboxes\\jsonlab_v1.2\".\n",
      "Adding \"logging4matlab\" to path at \"C:\\Users\\narayas2\\Documents\\MATLAB\\toolboxes\\logging4matlab\".\n",
      "Adding \"MatlabQuery\" to path at \"C:\\Users\\narayas2\\Documents\\MATLAB\\toolboxes\\MatlabQuery\".\n",
      "Adding \"mdepin\" to path at \"C:\\Users\\narayas2\\Documents\\MATLAB\\toolboxes\\mdepin\".\n",
      "Checking for \"calibration-module\" local hook.\n",
      "Checking for \"matlab-persistence\" local hook.\n",
      "Checking for \"jsonlab_v1.2\" local hook.\n",
      "Checking for \"logging4matlab\" local hook.\n",
      "Checking for \"MatlabQuery\" local hook.\n",
      "Checking for \"mdepin\" local hook.\n",
      "Error: \"calibration-module\" had status 1, message \"Host key verification failed.\n",
      "fatal: Could not read from remote repository.\n",
      "\n",
      "Please make sure you have the correct access rights\n",
      "and the repository exists.\"\n",
      "Something went wrong with resolved toolboxes, please see above.\n",
      "\n"
     ]
    }
   ],
   "source": [
    "\n",
    "%% Ignore below lines of code, Go to next section please\n",
    "\n",
    "tbUseProject('calibration-module');\n",
    "javaaddpath(which('mpa-jutil-0.0.1-SNAPSHOT.jar'));\n",
    "javaaddpath(which('java-uuid-generator-3.1.4.jar'));\n",
    "\n"
   ]
  },
  {
   "cell_type": "code",
   "execution_count": 3,
   "metadata": {
    "collapsed": false,
    "deletable": true,
    "editable": true
   },
   "outputs": [
    {
     "name": "stdout",
     "output_type": "stream",
     "text": [
      "\n"
     ]
    }
   ],
   "source": [
    "% setup classpath\n",
    "\n",
    "import ala_laurila_lab.*;\n",
    "path = which('test-symphony-persistence.xml');\n",
    "config = struct();\n",
    "config.service.class = 'ala_laurila_lab.service.CalibrationService';\n",
    "config.service.dataPersistence = 'test-rig-data';\n",
    "config.service.logPersistence = 'test-rig-log';\n",
    "config.service.persistenceXml = which('test-symphony-persistence.xml');\n",
    "service = mdepin.createApplication(config, 'service');\n"
   ]
  },
  {
   "cell_type": "code",
   "execution_count": 4,
   "metadata": {
    "collapsed": false,
    "deletable": true,
    "editable": true
   },
   "outputs": [
    {
     "name": "stdout",
     "output_type": "stream",
     "text": [
      "ndf A1A + A4B\n",
      "rstar       voltage\n",
      "------------------------\n",
      "1.5104      56.6533\n",
      "2.4766      90.9948\n",
      "3.4319      125.9567\n",
      "4.3886      161.9321\n",
      "5.3437      198.7421\n",
      "10.1191      395.3637\n",
      "19.6384      848.9841\n",
      "29.0782      1372.9216\n",
      "\n"
     ]
    }
   ],
   "source": [
    "%% Trying to calculate intensity to rstar\n",
    "% From calibration api mode\n",
    "\n",
    "LAMDA_MAX = 497;                        % Toda et al. 1999\n",
    "ROD_PHOTORECEPTOR_AREA = 0.5 * 1e-12;   % um^2, collective area of rod (Murphy & Rieke (2011))\n",
    "\n",
    "% get all the required instances, led names are weird but we can fix that in real calibration\n",
    "\n",
    "intensity = service.getIntensityMeasurement('Blue');\n",
    "spectrum = service.getSpectralMeasurement('blue', 'led');\n",
    "linearity = service.getLinearityByStimulsDuration(5000, 'BlueLed');\n",
    "\n",
    "% calculate rstar per second\n",
    "\n",
    "powerPerUnitArea = intensity(end).getPowerPerUnitArea();\n",
    "powerSpectrumPerArea = spectrum.getNormalizedPowerSpectrum() * powerPerUnitArea;\n",
    "rstarPerSecond = util.photonToIsomerisation(powerSpectrumPerArea, spectrum.wavelength, LAMDA_MAX, ROD_PHOTORECEPTOR_AREA);\n",
    "\n",
    "% get the transmitance value from ndf\n",
    "\n",
    "ndf2 = service.getNDFMeasurement('A4B');\n",
    "ndf3 = service.getNDFMeasurement('A1A');\n",
    "trans = 10^(-(ndf2(end).opticalDensity + ndf3(end).opticalDensity));\n",
    "\n",
    "% sample r-star table for ndf 5 \n",
    "\n",
    "disp('ndf A1A + A4B');\n",
    "disp('rstar       voltage')\n",
    "disp('------------------------')\n",
    "\n",
    "for voltage = [56.6532853243682, 90.9947797625159, 125.95670244329, 161.932053656434, 198.742115631752, 395.363673745042, 848.984144716212, 1372.9216466916]\n",
    "    flux = linearity.getFluxByInput(voltage * 10^-3, 'factorized', true);\n",
    "    rstar = flux * rstarPerSecond * trans;\n",
    "    disp([num2str(rstar) '      ' num2str(voltage)]);\n",
    "end\n",
    "\n",
    "clear service;"
   ]
  },
  {
   "cell_type": "code",
   "execution_count": 5,
   "metadata": {
    "collapsed": false,
    "deletable": true,
    "editable": true
   },
   "outputs": [
    {
     "name": "stdout",
     "output_type": "stream",
     "text": [
      "Warning: MATLAB has disabled some advanced graphics rendering features by switching to software OpenGL. For more information, click <a href=\"matlab:opengl('problems')\">here</a>.\n",
      "\n"
     ]
    },
    {
     "data": {
      "image/png": "[encoded data removed]",
      "text/plain": [
       "<IPython.core.display.Image object>"
      ]
     },
     "metadata": {},
     "output_type": "display_data"
    },
    {
     "data": {
      "image/png": "[encoded data removed]",
      "text/plain": [
       "<IPython.core.display.Image object>"
      ]
     },
     "metadata": {},
     "output_type": "display_data"
    }
   ],
   "source": [
    "close all;\n",
    "clc;\n",
    "import ala_laurila_lab.*;\n",
    "\n",
    "LAMDA_MAX = 497;                        % Toda et al. 1999\n",
    "ROD_PHOTORECEPTOR_AREA = 0.5 * 1e-12;   % um^2, collective area of rod (Murphy & Rieke (2011))\n",
    "\n",
    "spectrum = ala_laurila_lab.util.loadSpectralFile('src/test/resources/spectrum_aalto_rig', 'projector');\n",
    "figure;\n",
    "\n",
    "[p ,graph] = spectrum.getPowerSpectrum(25, 500, 'um');\n",
    "a = axes(); graph(a)\n",
    "\n",
    "\n",
    "linearity = loadjson('src\\test\\resources\\projector-linearity.json');\n",
    "figure; \n",
    "plot(linearity.ledCurrents, linearity.powerInMilliWattFor);\n",
    "xlabel('LED current');\n",
    "ylabel('Power in milli watt');\n",
    "title('Power vs LED current for spot size of 1000 micron');\n",
    "\n",
    "\n",
    " "
   ]
  },
  {
   "cell_type": "code",
   "execution_count": 6,
   "metadata": {
    "collapsed": false,
    "deletable": true,
    "editable": true
   },
   "outputs": [
    {
     "name": "stdout",
     "output_type": "stream",
     "text": [
      "| Ledurrents \t | rstarPerSecond | ndf 1 | ndf 3 | ndf 5 |\n",
      "| --------- | --------- | --------- | --------- | --------- |\n",
      "| 6 \t | 137030.47 | 13703.047 \t | 137.0305 \t | 1.3703 \t |\n",
      "| 7 \t | 1636321.41 | 163632.141 \t | 1636.3214 \t | 16.3632 \t |\n",
      "| 8 \t | 3420181.9 | 342018.19 \t | 3420.1819 \t | 34.2018 \t |\n",
      "| 9 \t | 5623178 | 562317.8 \t | 5623.178 \t | 56.2318 \t |\n",
      "| 10 \t | 7408572.94 | 740857.294 \t | 7408.5729 \t | 74.0857 \t |\n",
      "| 11 \t | 9169695.77 | 916969.577 \t | 9169.6958 \t | 91.697 \t |\n",
      "| 12 \t | 10971411.61 | 1097141.161 \t | 10971.4116 \t | 109.7141 \t |\n",
      "| 13 \t | 12818835.27 | 1281883.527 \t | 12818.8353 \t | 128.1884 \t |\n",
      "| 14 \t | 14495377.7 | 1449537.77 \t | 14495.3777 \t | 144.9538 \t |\n",
      "| 15 \t | 16147694.53 | 1614769.453 \t | 16147.6945 \t | 161.4769 \t |\n",
      "| 20 \t | 24654557.14 | 2465455.714 \t | 24654.5571 \t | 246.5456 \t |\n",
      "| 30 \t | 40715578.84 | 4071557.884 \t | 40715.5788 \t | 407.1558 \t |\n",
      "| 40 \t | 55189474.32 | 5518947.432 \t | 55189.4743 \t | 551.8947 \t |\n",
      "| 50 \t | 68913026.87 | 6891302.687 \t | 68913.0269 \t | 689.1303 \t |\n",
      "| 60 \t | 81440968.81 | 8144096.881 \t | 81440.9688 \t | 814.4097 \t |\n",
      "| 70 \t | 93826904.94 | 9382690.494 \t | 93826.9049 \t | 938.269 \t |\n",
      "| 80 \t | 105597622.19 | 10559762.219 \t | 105597.6222 \t | 1055.9762 \t |\n",
      "| 90 \t | 117166164.88 | 11716616.488 \t | 117166.1649 \t | 1171.6616 \t |\n",
      "| 100 \t | 128127579.41 | 12812757.941 \t | 128127.5794 \t | 1281.2758 \t |\n",
      "| 120 \t | 149042418.35 | 14904241.835 \t | 149042.4183 \t | 1490.4242 \t |\n",
      "| 140 \t | 168501302.74 | 16850130.274 \t | 168501.3027 \t | 1685.013 \t |\n",
      "| 160 \t | 186718496.78 | 18671849.678 \t | 186718.4968 \t | 1867.185 \t |\n",
      "| 180 \t | 203286210.38 | 20328621.038 \t | 203286.2104 \t | 2032.8621 \t |\n",
      "| 200 \t | 218499289.23 | 21849928.923 \t | 218499.2892 \t | 2184.9929 \t |\n",
      "| 220 \t | 232104503.59 | 23210450.359 \t | 232104.5036 \t | 2321.045 \t |\n",
      "| 240 \t | 244228468.43 | 24422846.843 \t | 244228.4684 \t | 2442.2847 \t |\n",
      "| 255 \t | 252012096.58 | 25201209.658 \t | 252012.0966 \t | 2520.121 \t |\n",
      "\n"
     ]
    }
   ],
   "source": [
    "radius = 1000 * 10^-6/2;\n",
    "area = pi*(radius)^2; % of 1000 um diamater\n",
    "\n",
    "powerPerArea = @(power) power * 10^-3 / area;\n",
    "powerSpectrumPerArea = @(powerPerUnitArea) spectrum.getNormalizedPowerSpectrum() * powerPerUnitArea;\n",
    "rstarPerSecond = @(powerPerUnitArea) util.photonToIsomerisation(powerSpectrumPerArea(powerPerUnitArea), spectrum.wavelength, LAMDA_MAX, ROD_PHOTORECEPTOR_AREA);\n",
    "\n",
    "\n",
    "\n",
    "fprintf('| Ledurrents \\t | rstarPerSecond | ndf 1 | ndf 3 | ndf 5 |\\n');\n",
    "fprintf('| --------- | --------- | --------- | --------- | --------- |\\n')\n",
    "for i = 7 : numel(linearity.ledCurrents)\n",
    "     rstar = rstarPerSecond(powerPerArea(linearity.powerInMilliWattFor(i)));  % in milli watts for 1000 micron and no ndf\n",
    "     rstar = round(rstar, 2);\n",
    "     fprintf('| %s \\t | %s | %s \\t | %s \\t | %s \\t |\\n', num2str(linearity.ledCurrents(i)), num2str(rstar) , num2str(rstar * 10^(-1)), num2str(rstar * 10^(-3)), num2str(rstar * 10^(-5)));\n",
    "end\n"
   ]
  },
  {
   "cell_type": "code",
   "execution_count": null,
   "metadata": {
    "collapsed": true,
    "deletable": true,
    "editable": true
   },
   "outputs": [],
   "source": []
  },
  {
   "cell_type": "code",
   "execution_count": null,
   "metadata": {
    "collapsed": true,
    "deletable": true,
    "editable": true
   },
   "outputs": [],
   "source": []
  }
 ],
 "metadata": {
  "kernelspec": {
   "display_name": "Matlab",
   "language": "matlab",
   "name": "matlab"
  },
  "language_info": {
   "codemirror_mode": "octave",
   "file_extension": ".m",
   "help_links": [
    {
     "text": "MetaKernel Magics",
     "url": "https://github.com/calysto/metakernel/blob/master/metakernel/magics/README.md"
    }
   ],
   "mimetype": "text/x-matlab",
   "name": "matlab",
   "version": "0.14.2"
  }
 },
 "nbformat": 4,
 "nbformat_minor": 2
}
